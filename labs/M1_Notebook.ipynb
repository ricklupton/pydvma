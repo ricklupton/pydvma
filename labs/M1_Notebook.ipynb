{
 "cells": [
  {
   "cell_type": "markdown",
   "metadata": {},
   "source": [
    "***\n",
    "<h1><center> Engineering Tripos Part IB, Experiment M1 </center></h1> \n",
    "<h1><center> Experimental Engineering, Materials Teaching Laboratory </center></h1>\n",
    "\n",
    "***\n"
   ]
  },
  {
   "cell_type": "markdown",
   "metadata": {},
   "source": [
    "## Introduction\n",
    "\n",
    "In this experiment you will measure natural frequencies of vibrating beams after impulsive loading.  Carefully supported beams will be struck, and the resulting vibrations measured using a microphone and data-logger. The frequency of free vibration of beams depends on the density (the inertia) and the stiffness: low density and high stiffness mean higher frequencies. The stiffness of beams in turn depends on the geometry (the length and cross-sectional shape) and the material (the Young’s modulus). The decay rate of the vibrations also provides information on damping i.e. energy loss during vibration. Two materials will be considered: aluminium alloy and the polymer PMMA."
   ]
  },
  {
   "cell_type": "markdown",
   "metadata": {},
   "source": [
    "## Method\n",
    "\n",
    "Start by importing the necessary modules (pydvma is a python package written for data acquisition at CUED)."
   ]
  },
  {
   "cell_type": "code",
   "execution_count": null,
   "metadata": {},
   "outputs": [],
   "source": [
    "%gui qt"
   ]
  },
  {
   "cell_type": "code",
   "execution_count": null,
   "metadata": {},
   "outputs": [],
   "source": [
    "import pydvma as dvma\n",
    "from labs import m1"
   ]
  },
  {
   "cell_type": "markdown",
   "metadata": {},
   "source": [
    "Choose your acquisition settings. The setting we want for the m1 lab are:\n",
    "\n",
    "* channels=1 (number of channels to record)\n",
    "* fs=8000 (sampling rate in Hz)\n",
    "* chunk_size=200 (how many samples to collect at a time, effectively controls refresh rate of oscilloscope)\n",
    "* stored_time=2 (time in seconds to record data for)\n",
    "* view_time=2 (time in seconds to display on oscilloscope)\n",
    "* device_index = 1 (Windows default input)\n",
    "\n",
    "We want to use the default soundcard for the microphone, we only need one channel, and a lower sampling rate works well for this lab:"
   ]
  },
  {
   "cell_type": "code",
   "execution_count": null,
   "metadata": {},
   "outputs": [],
   "source": [
    "settings = dvma.mySettings(channels=1,fs=8000,chunk_size=200,stored_time=2,view_time=2,device_index=1)"
   ]
  },
  {
   "cell_type": "markdown",
   "metadata": {},
   "source": [
    "Now open an oscilloscope using your settings. This shows three plots:\n",
    "\n",
    "* the top one is like a normal oscilloscope showing the signal (toggle on/off with 'T');\n",
    "* the middle one shows the frequency spectrum of the signal (toggle on/off with 'F');\n",
    "* the bottom one shows the signal amplitudes (toggle on/off with 'L');\n",
    "\n",
    "Press the **space bar** to record data from the past few seconds (this is the value 'stored_time').\n",
    "\n",
    "* The first time you press it you will be prompted for where to save your data. Make sure you save it in your teaching system folder ('./Home/Documents/' then right-click and create a new folder 'M1_data').\n",
    "* Subsequent times you press it will auto-save to the same folder with a number added to the filename.\n",
    "* Press 's' if you want to save data to a new filename or location. Pressing space after that will auto-save with the new name.\n",
    "\n",
    "If needed then you can restart this notebook using the 'kernel' menu and select 'restart kernel and clear output'. You can then run the import section above and start again from the top, or jump to the dvma.read_data() section below.\n",
    "\n",
    "**Note that pressing 'space' captures the past N seconds of data: so you need to tap the beam, wait a second or so, then press space!**"
   ]
  },
  {
   "cell_type": "code",
   "execution_count": null,
   "metadata": {},
   "outputs": [],
   "source": [
    "osc = dvma.oscilloscope(settings)"
   ]
  },
  {
   "cell_type": "markdown",
   "metadata": {},
   "source": [
    "Once you have a good example dataset you can read your data files and plot them."
   ]
  },
  {
   "cell_type": "code",
   "execution_count": null,
   "metadata": {},
   "outputs": [],
   "source": [
    "dataset = dvma.read_data()"
   ]
  },
  {
   "cell_type": "code",
   "execution_count": null,
   "metadata": {},
   "outputs": [],
   "source": [
    "%matplotlib notebook\n",
    "timeplot = dvma.plotdata(dataset.timeData)"
   ]
  },
  {
   "cell_type": "markdown",
   "metadata": {},
   "source": [
    "Zoom in on the section of time where you can an impact and its decay down to (nearly) zero. We will use this bit of data to calculate its spectrum and find the resonant peaks of the beam."
   ]
  },
  {
   "cell_type": "code",
   "execution_count": null,
   "metadata": {},
   "outputs": [],
   "source": [
    "dataset.freqData = dvma.convert_to_frequency(dataset.timeData, time_range=timeplot)\n",
    "freqplot = dvma.plotdata(dataset.freqData)"
   ]
  },
  {
   "cell_type": "markdown",
   "metadata": {},
   "source": [
    "Zoom in on the required resonant peaks in the frequency domain plot, then use 'find_peaks' from the m1 labs module to record their exact values.\n",
    "\n",
    "Note that the peak finder is using the zoomed range of your 'freqplot' and will only find peaks in this frequency range, and only those that are in view. So if you zoom in and chop off the noisy low-amplitude data then that can help isolate the most prominant peaks."
   ]
  },
  {
   "cell_type": "code",
   "execution_count": null,
   "metadata": {},
   "outputs": [],
   "source": [
    "p,a = m1.find_peaks(dataset.freqData,freq_range=freqplot)"
   ]
  },
  {
   "cell_type": "markdown",
   "metadata": {},
   "source": [
    "Next, we will be calculating the Young's Modulus of the beam.\n",
    "\n",
    "First of all, measure the length **(L)**, width **(b)**, thickness **(d)** and mass **(M)** of your beam in $m$ and $kg$, respectively, and enter their values below.\n",
    "\n",
    "Note that the input requires keyword arguments, so for example you need to actually type \"L=0.2\" etc, but using your measured values."
   ]
  },
  {
   "cell_type": "code",
   "execution_count": null,
   "metadata": {},
   "outputs": [],
   "source": [
    "beam_data=m1.beam(L= , b= , d= , M= ) # remember units are meters and kilograms!"
   ]
  },
  {
   "cell_type": "markdown",
   "metadata": {},
   "source": [
    "Finally, use the function below to find the Young's Modulus of aluminium. \n",
    "\n",
    "The required arguments are:\n",
    "* beam_data\n",
    "* the natural frequency of one of the modes of the beam\n",
    "* the mode number corresponding to that frequency\n",
    "\n",
    "Now use the E_calculator() function for each mode and make sure your values agree with databook values. If any value is very far from what you expect then this is probably because the frequency is not associated with the mode number.\n",
    "\n",
    "E is calculated using the following equation:\n",
    "$$(2\\pi f)^2\\times\\left(\\frac{L}{\\alpha_L}\\right)^4\\times\\rho\\times\\frac{A}{I}$$"
   ]
  },
  {
   "cell_type": "code",
   "execution_count": null,
   "metadata": {},
   "outputs": [],
   "source": [
    "E = m1.E_calculator(beam=beam_data,frequency= ,mode= )"
   ]
  },
  {
   "cell_type": "code",
   "execution_count": null,
   "metadata": {},
   "outputs": [],
   "source": []
  }
 ],
 "metadata": {
  "kernelspec": {
   "display_name": "Python 3",
   "language": "python",
   "name": "python3"
  },
  "language_info": {
   "codemirror_mode": {
    "name": "ipython",
    "version": 3
   },
   "file_extension": ".py",
   "mimetype": "text/x-python",
   "name": "python",
   "nbconvert_exporter": "python",
   "pygments_lexer": "ipython3",
   "version": "3.6.6"
  }
 },
 "nbformat": 4,
 "nbformat_minor": 2
}
